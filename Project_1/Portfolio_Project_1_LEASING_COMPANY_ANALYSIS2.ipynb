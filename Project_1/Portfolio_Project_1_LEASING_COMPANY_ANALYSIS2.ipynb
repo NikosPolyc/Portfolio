{
 "cells": [
  {
   "cell_type": "markdown",
   "id": "45614345",
   "metadata": {},
   "source": [
    "<br>\n",
    "<h1 style = \"font-size:60px; font-family:Open Sans ; font-weight : normal; background-color: #f0f0f0 ; color : #9b1a1a; text-align: center; border-radius: 100px 100px;\"> LEASING COMPANY PROBLEM</h1>\n",
    "<br>\n"
   ]
  },
  {
   "cell_type": "markdown",
   "id": "3a89a973",
   "metadata": {},
   "source": [
    "<h1 style = \"font-family: Open Sans; font-size: 40px; font-style: normal; letter-spcaing: 3px; background-color: #f0f0f0; color :#9b1a1a; border-radius: 100px 100px; text-align:center \" >Table of Contents</h1>\n",
    "\n",
    "\n",
    "* [1. Introduction](#1)\n",
    "    * [1.1 Scraping Used Car Data](#1.01)\n",
    "    * [1.2 Libraries And Utilities](#1.1)\n",
    "    * [1.3 Data Cleaning and Preprocessing](#1.2)\n",
    "* [2. Answering Questions](#2)\n",
    "    * [Has the Greek Economic Crisis and Covid-19 era's impacted used car market in any way?](#2.1)\n",
    "    * [Which year has the biggest number for sale?](#2.2)\n",
    "    * [What Brands are most expensive on the used car market?](#2.3)\n",
    "    * [Which models are the most expensive on the market](#2.4)\n",
    "    * [What Brands are most in sale on the market?](#2.5)\n",
    "    * [What Models are sold in the used car market?](#2.6)\n",
    "    * [What type of cars dominate the market?](#2.7)\n",
    "    * [Which models do not lose their value according to the market?](#2.8)\n",
    "                \n",
    "* [3.Results & Refernces](#3)"
   ]
  },
  {
   "cell_type": "markdown",
   "id": "34769895",
   "metadata": {},
   "source": [
    "<a id = '1'></a>\n",
    "<h2 style = \"font-family:Open Sans; font-size:50px; background-color: #f0f0f0; color : #9b1a1a; border-radius: 100px 100px; text-align:center\"> 1. Introduction </h2>\n",
    "\n"
   ]
  },
  {
   "cell_type": "markdown",
   "id": "c87ceaad",
   "metadata": {},
   "source": [
    "<h3 style = \"font-family:garamond; font-size:30px; background-color: f0f0f0; color : #171515; border-radius: 100px 100px; text-align:left\"> Business Problem</h3>\n",
    "\n",
    "### A Leasing company operating in Athens Greece is searching to upgrade already existing fleet of cars. In the past decade Greek market faced tough challenges such as Economic Crisis and Coved-19, but also the new enviromental framework which is pushed from the Greek goverment. The company searches and promotes sustainability and wants to promote a more enviromental framework to work. As a result, the company wants to pinpoint key insights in order to choose new models, but also pinpoint and estimate when to sell already existing owned cars to the used car market.\n",
    "\n",
    "<img src=\"https://plus.unsplash.com/premium_photo-1658507004978-e9298f7bc3ff?q=80&w=1740&auto=format&fit=crop&ixlib=rb-4.0.3&ixid=M3wxMjA3fDB8MHxwaG90by1wYWdlfHx8fGVufDB8fHx8fA%3D%3D\" alt=\"Dealer\">>\n",
    "\n",
    "\n",
    "<h3 style = \"font-family:garamond; font-size:30px; background-color: f0f0f0; color : #171515; border-radius: 100px 100px; text-align:left\"> Data Analyst</h3>\n",
    "\n",
    "### As a data analyst in order to solve the problem i needed data based on the Greek market of used cars. Through data scraping techniques I managed to acquire data to begin an analysis \n",
    "\n",
    "<img src=\"https://images.unsplash.com/photo-1532619675605-1ede6c2ed2b0?q=80&w=1740&auto=format&fit=crop&ixlib=rb-4.0.3&ixid=M3wxMjA3fDB8MHxwaG90by1wYWdlfHx8fGVufDB8fHx8fA%3D%3D\" alt=\"Cars dealership\">>\n",
    "\n",
    "\n",
    "<h3 style = \"font-family:garamond; font-size:30px; background-color: f0f0f0; color : #171515; border-radius: 100px 100px; text-align:left\"> Notebook Introduction</h3>\n",
    "\n",
    "### The rental car market in Greece is a dynamic sector influenced by various factors including economic conditions, travel trends, and technological advancements. In recent years, the market has experienced notable shifts due to the rise of ride-sharing services and changing consumer preferences towards alternative transportation options. COVID-19 pandemic significantly impacted the industry, leading to fluctuations in demand and operational challenges. Additionally, Greek Economic Crisis had a massive impact on the market primary concerning car ownership demand. As a data analyst working in Leasing Company, I've been tasked to research current market trends in order to provide valuable insights on the business and answer  questions.\n",
    "\n",
    "<img src=\"https://images.unsplash.com/photo-1574023278981-0b48ba10e9ba?q=80&w=1740&auto=format&fit=crop&ixlib=rb-4.0.3&ixid=M3wxMjA3fDB8MHxwaG90by1wYWdlfHx8fGVufDB8fHx8fA%3D%3D \" alt=\"Cars dealership\">>\n",
    "\n",
    "<h3 style = \"font-family:garamond; font-size:30px; background-color: f0f0f0; color : #171515; border-radius: 100px 100px; text-align:left\"> Questions</h3>\n",
    "\n",
    "### 1. Has the Greek Economic Crisis and Covid-19 era's impacted used car market in any way?\n",
    "### 2. Which year has the biggest number for sale?\n",
    "### 3. What Brands are most expensive on the used car market?\n",
    "### 4. Which models are the most expensive on the market?\n",
    "### 5. What Brands are most in sale on the market?\n",
    "### 6. What Models are sold in the used car market?\n",
    "### 7. What type of cars dominate the market?\n",
    "### 8. Which models do not their value according to the market?"
   ]
  },
  {
   "cell_type": "markdown",
   "id": "9e0fbdb5",
   "metadata": {},
   "source": [
    "<a id = '1.1'></a>\n",
    "\n",
    "<h2 style = \"background-color: #f0f0f0; color : #9b1a1a; font-size: 35px; font-family:Open Sans; font-weight: normal; border-radius: 100px 100px; text-align: center\">1.1 Scraping Used Car Data</h2>\n"
   ]
  },
  {
   "cell_type": "markdown",
   "id": "445dd7b8",
   "metadata": {},
   "source": [
    "<a id = '1.01'></a>\n",
    "<h3 style = \"font-family:garamond; font-size:30px; background-color: f0f0f0; color : #171515; border-radius: 100px 100px; text-align:left\"> Data Gathering</h3>\n",
    "\n",
    "### Nestled within the bustling online marketplace for used cars in Greece lies \"Car.gr\" (https://www.car.gr/), a dynamic platform teeming with advertisements for pre-owned vehicles sourced from both established dealerships and individual owners. This comprehensive website serves as a rich trove of data, offering invaluable insights into the current automotive market landscape and emerging trends. Through meticulous analysis of the listings and user interactions, researchers can uncover valuable market dynamics and discern prevailing consumer preferences. With its diverse array of offerings and real-time updates, Car.gr stands as a premier destination for those seeking to delve into the nuances of Greece's vibrant used car market.\n",
    "\n",
    "<img src=\"https://images.unsplash.com/photo-1542903660-eedba2cda473?q=80&w=1740&auto=format&fit=crop&ixlib=rb-4.0.3&ixid=M3wxMjA3fDB8MHxwaG90by1wYWdlfHx8fGVufDB8fHx8fA%3D%3D\" alt=\"coding\">>\n",
    "\n",
    "<h3 style = \"font-family:garamond; font-size:30px; background-color: f0f0f0; color : #171515; border-radius: 100px 100px; text-align:left\"> Scraping Data using BeautifulSoup</h3>\n",
    "\n",
    "### This Python script demonstrates how to scrape data from the \"Car.gr\" website, a popular platform for used car listings in Greece, using BeautifulSoup. It retrieves information such as the title, model, brand and price of the listed cars and saves it into a CSV file for further analysis."
   ]
  },
  {
   "cell_type": "markdown",
   "id": "457dc135",
   "metadata": {},
   "source": [
    "import requests\n",
    "from bs4 import BeautifulSoup\n",
    "import time\n",
    "\n",
    "num_of_pages = range(1, 5000)\n",
    "\n",
    "data = []\n",
    "for page_num in num_of_pages:\n",
    "    url = f'https://www.car.gr/classifieds/cars/?category=15001&condition=used&pg={page_num}'\n",
    "\n",
    "    # Send an HTTP GET request to the URL.\n",
    "    response = requests.get(url)\n",
    "\n",
    "    # Check for HTTP request errors.\n",
    "    if response.status_code != 200:\n",
    "        print(f'Error: Failed to fetch page {page_num}')\n",
    "        print(r.raise_for_status())\n",
    "\n",
    "    # Parse the HTML content of the page using BeautifulSoup.\n",
    "    soup = BeautifulSoup(response.text, 'html.parser')\n",
    "\n",
    "    # Extract titles and prices from the website.\n",
    "    titles = [h2.text for h2 in soup.find_all(\"h2\", {\"class\": \"title\"})]\n",
    "    prices = [prices.text for prices in soup.find_all('div', {\"class\": 'price-tag current-price'})]\n",
    "\n",
    "    # Creating a list of tuples.\n",
    "    data = list(zip(titles, prices))\n",
    "\n",
    "    # Creating a preferable format of csv to further data clean.\n",
    "    data = [(item[0].replace('\\n', '').replace(',', '.').lstrip(\" \"), item[1].replace('\\n', '').replace(' ', '')) for\n",
    "            item in data]\n",
    "\n",
    "    # Check progress.\n",
    "    print(data)\n",
    "\n",
    "    # Saving Scraped data in a csv file.\n",
    "    with open('new_used_cars_dataset.txt', 'a', encoding='utf-8') as file:\n",
    "        for item in data:\n",
    "            file.write(f\"{item[0]},{item[1]}\\n\")"
   ]
  },
  {
   "cell_type": "markdown",
   "id": "09bf6ae0",
   "metadata": {},
   "source": [
    "<a id = '1.2'></a>\n",
    "\n",
    "<h2 style = \"background-color: #f0f0f0; color : #9b1a1a; font-size: 35px; font-family:Open Sans; font-weight: normal; border-radius: 100px 100px; text-align: center\">1.2 Libraries and Utilities</h2>\n"
   ]
  },
  {
   "cell_type": "code",
   "execution_count": 7,
   "id": "2d17a042",
   "metadata": {},
   "outputs": [
    {
     "ename": "ModuleNotFoundError",
     "evalue": "No module named 'chart_studio'",
     "output_type": "error",
     "traceback": [
      "\u001b[1;31m---------------------------------------------------------------------------\u001b[0m",
      "\u001b[1;31mModuleNotFoundError\u001b[0m                       Traceback (most recent call last)",
      "Cell \u001b[1;32mIn[7], line 9\u001b[0m\n\u001b[0;32m      7\u001b[0m \u001b[38;5;28;01mimport\u001b[39;00m \u001b[38;5;21;01mwarnings\u001b[39;00m\n\u001b[0;32m      8\u001b[0m warnings\u001b[38;5;241m.\u001b[39mfilterwarnings(\u001b[38;5;124m\"\u001b[39m\u001b[38;5;124mignore\u001b[39m\u001b[38;5;124m\"\u001b[39m)\n\u001b[1;32m----> 9\u001b[0m \u001b[38;5;28;01mimport\u001b[39;00m \u001b[38;5;21;01mchart_studio\u001b[39;00m\u001b[38;5;21;01m.\u001b[39;00m\u001b[38;5;21;01mplotly\u001b[39;00m \u001b[38;5;28;01mas\u001b[39;00m \u001b[38;5;21;01mpy\u001b[39;00m\n",
      "\u001b[1;31mModuleNotFoundError\u001b[0m: No module named 'chart_studio'"
     ]
    }
   ],
   "source": [
    "import pandas as pd\n",
    "import numpy as np\n",
    "import matplotlib.pyplot as plt\n",
    "import seaborn as sns\n",
    "import plotly.express as px\n",
    "sns.set()\n",
    "import warnings\n",
    "warnings.filterwarnings(\"ignore\")\n",
    "import chart_studio.plotly as py"
   ]
  },
  {
   "cell_type": "markdown",
   "id": "4e56b109",
   "metadata": {},
   "source": [
    "<h4 style = \"font-family:garamond; font-size:30px; background-color: f0f0f0; color : #171515; border-radius: 100px 100px; text-align:left\"> Preview Data</h4>"
   ]
  },
  {
   "cell_type": "code",
   "execution_count": null,
   "id": "0ece8f5a",
   "metadata": {},
   "outputs": [],
   "source": [
    "df = pd.read_csv('used_cars.txt',delimiter=',',encoding='utf-8')"
   ]
  },
  {
   "cell_type": "code",
   "execution_count": null,
   "id": "fa1808db",
   "metadata": {
    "scrolled": true
   },
   "outputs": [],
   "source": [
    "df.head()"
   ]
  },
  {
   "cell_type": "code",
   "execution_count": null,
   "id": "302a7224",
   "metadata": {
    "scrolled": true
   },
   "outputs": [],
   "source": [
    "df.shape"
   ]
  },
  {
   "cell_type": "markdown",
   "id": "1d39a1e5",
   "metadata": {},
   "source": [
    "#### We can see the data we scraped containt 2 columns. First column contains information about the Brand, Model and Year of the car, and the second column contains the prices they are sold in the market."
   ]
  },
  {
   "cell_type": "code",
   "execution_count": null,
   "id": "097f5228",
   "metadata": {
    "scrolled": true
   },
   "outputs": [],
   "source": [
    "df.describe()"
   ]
  },
  {
   "cell_type": "markdown",
   "id": "2834a9fe",
   "metadata": {},
   "source": [
    "<a id = '1.3'></a>\n",
    "<h2 style = \"background-color: #f0f0f0; color : #9b1a1a; font-size: 35px; font-family:Open Sans; font-weight: normal; border-radius: 100px 100px; text-align: center\"> 1.3 Data cleaning and Preprocessing</h2>"
   ]
  },
  {
   "cell_type": "markdown",
   "id": "3b84b35b",
   "metadata": {},
   "source": [
    "<h4 style = \"font-family:garamond; font-size:30px; background-color: f0f0f0; color : #171515; border-radius: 100px 100px; text-align:left\"> Prices Column</h4>"
   ]
  },
  {
   "cell_type": "code",
   "execution_count": null,
   "id": "7be76ca4",
   "metadata": {},
   "outputs": [],
   "source": [
    "df['prices'] = df['prices'].str.strip('€').str.replace('.', \"\", regex=True)"
   ]
  },
  {
   "cell_type": "code",
   "execution_count": null,
   "id": "412d4904",
   "metadata": {},
   "outputs": [],
   "source": [
    "df['prices'] = pd.to_numeric(df['prices'])\n",
    "type(df['prices'])"
   ]
  },
  {
   "cell_type": "code",
   "execution_count": null,
   "id": "be8e9e71",
   "metadata": {},
   "outputs": [],
   "source": [
    "df.head()"
   ]
  },
  {
   "cell_type": "markdown",
   "id": "65c5acf0",
   "metadata": {},
   "source": [
    "#### The scraped data, merges used cars for sell with leasing cars. Since the lowest price is 1 euro. We will try to remove 0.1 % of our dataset in order to deal with this issue"
   ]
  },
  {
   "cell_type": "code",
   "execution_count": null,
   "id": "b5827d0c",
   "metadata": {
    "scrolled": true
   },
   "outputs": [],
   "source": [
    "df = df[df['prices']>df['prices'].quantile(0.1)]\n",
    "df.describe()"
   ]
  },
  {
   "cell_type": "markdown",
   "id": "f75733d2",
   "metadata": {},
   "source": [
    "#### The lowest value is 4600 euros, which is an acceptable price for used car for sale.\n",
    "\n",
    "#### Now we will deal with car_data column, we will exctract data and create new column which are Year, Model, Brand"
   ]
  },
  {
   "cell_type": "code",
   "execution_count": null,
   "id": "2d731800",
   "metadata": {},
   "outputs": [],
   "source": [
    "#Extracting Year\n",
    "df['Year'] = df['car_data'].str.split(\"'\").str[-1].str.split(\" \").str[0]\n",
    "df.head()"
   ]
  },
  {
   "cell_type": "code",
   "execution_count": null,
   "id": "628f07d9",
   "metadata": {},
   "outputs": [],
   "source": [
    "#Converting it to str\n",
    "df['Year'] = df['Year'].astype(dtype=str)"
   ]
  },
  {
   "cell_type": "code",
   "execution_count": null,
   "id": "f70c8008",
   "metadata": {},
   "outputs": [],
   "source": [
    "#Preview if the are unwanted elements\n",
    "df['Year'].unique()"
   ]
  },
  {
   "cell_type": "code",
   "execution_count": null,
   "id": "4aa8be34",
   "metadata": {},
   "outputs": [],
   "source": [
    "#Keeping numeric elements\n",
    "df = df[df['Year'].str.isnumeric()]\n",
    "df['Year'].unique()"
   ]
  },
  {
   "cell_type": "code",
   "execution_count": null,
   "id": "0bf2a2c3",
   "metadata": {},
   "outputs": [],
   "source": [
    "#Setting a condition if the int number is bigger than year 23 we will add 19 as an str thus create dates before 2000s\\\n",
    "#and if there dates smaller than the 23 we will add 20 as str and create dates after 2000s\n",
    "condition = df['Year'].astype(int) > 23\n",
    "df.loc[condition, 'Year'] = \"19\" + df['Year']\n",
    "df.loc[~condition, 'Year'] = \"20\" + df['Year']\n",
    "df.head()"
   ]
  },
  {
   "cell_type": "code",
   "execution_count": null,
   "id": "f24a608c",
   "metadata": {
    "scrolled": true
   },
   "outputs": [],
   "source": [
    "#Converting it to Year datetime obj\n",
    "df['Year'] = pd.to_datetime(df['Year']).dt.year\n",
    "type(df['Year'])"
   ]
  },
  {
   "cell_type": "markdown",
   "id": "0ee1aa59",
   "metadata": {},
   "source": [
    "As a leasing car company, we only care about models that were launched after 2000s"
   ]
  },
  {
   "cell_type": "code",
   "execution_count": null,
   "id": "0e8f906e",
   "metadata": {},
   "outputs": [],
   "source": [
    "df = df[df['Year'] > 2000]"
   ]
  },
  {
   "cell_type": "markdown",
   "id": "216f2a83",
   "metadata": {},
   "source": [
    "<h4 style = \"font-family:garamond; font-size:30px; background-color: f0f0f0; color : #171515; border-radius: 100px 100px; text-align:left\">Brand and Model columns.</h4>"
   ]
  },
  {
   "cell_type": "code",
   "execution_count": null,
   "id": "7b4f83d0",
   "metadata": {},
   "outputs": [],
   "source": [
    "#Brand column\n",
    "df['Brand'] = df['car_data'].str.split(\" \").str[0]\n",
    "df.head()"
   ]
  },
  {
   "cell_type": "code",
   "execution_count": null,
   "id": "67fb48bb",
   "metadata": {},
   "outputs": [],
   "source": [
    "#Check the elements\n",
    "df['Brand'].unique()"
   ]
  },
  {
   "cell_type": "code",
   "execution_count": null,
   "id": "8147c81f",
   "metadata": {},
   "outputs": [],
   "source": [
    "# Model column\n",
    "df['Model'] = df['car_data'].str.split(\"'\").str[0].str.split(\" \").str[1:]\n",
    "df['Model'] = df['Model'].apply(lambda x: ''.join(map(str, x)))\n",
    "df.head()"
   ]
  },
  {
   "cell_type": "code",
   "execution_count": null,
   "id": "0bf8eb16",
   "metadata": {
    "scrolled": true
   },
   "outputs": [],
   "source": [
    "# Check elements\n",
    "df['Model'].unique()"
   ]
  },
  {
   "cell_type": "code",
   "execution_count": 8,
   "id": "19908815",
   "metadata": {},
   "outputs": [
    {
     "ename": "NameError",
     "evalue": "name 'df' is not defined",
     "output_type": "error",
     "traceback": [
      "\u001b[1;31m---------------------------------------------------------------------------\u001b[0m",
      "\u001b[1;31mNameError\u001b[0m                                 Traceback (most recent call last)",
      "Cell \u001b[1;32mIn[8], line 2\u001b[0m\n\u001b[0;32m      1\u001b[0m \u001b[38;5;66;03m#Removing unwanted elements\u001b[39;00m\n\u001b[1;32m----> 2\u001b[0m df \u001b[38;5;241m=\u001b[39m df[df[\u001b[38;5;124m'\u001b[39m\u001b[38;5;124mModel\u001b[39m\u001b[38;5;124m'\u001b[39m] \u001b[38;5;241m!=\u001b[39m \u001b[38;5;124m'\u001b[39m\u001b[38;5;124m'\u001b[39m]\n\u001b[0;32m      3\u001b[0m df \u001b[38;5;241m=\u001b[39m df[\u001b[38;5;241m~\u001b[39mdf[\u001b[38;5;124m'\u001b[39m\u001b[38;5;124mModel\u001b[39m\u001b[38;5;124m'\u001b[39m]\u001b[38;5;241m.\u001b[39misin([\u001b[38;5;124m'\u001b[39m\u001b[38;5;124mκόμπι/kάραβαν\u001b[39m\u001b[38;5;124m'\u001b[39m,\u001b[38;5;124m'\u001b[39m\u001b[38;5;124mκόμπακτ/hatchback\u001b[39m\u001b[38;5;124m'\u001b[39m, \u001b[38;5;124m'\u001b[39m\u001b[38;5;124mαλλο\u001b[39m\u001b[38;5;124m'\u001b[39m, \u001b[38;5;124m'\u001b[39m\u001b[38;5;124mαγροτικό/pickup\u001b[39m\u001b[38;5;124m'\u001b[39m, \u001b[38;5;124m'\u001b[39m\u001b[38;5;124mκουπέ-σπόρ\u001b[39m\u001b[38;5;124m'\u001b[39m, \u001b[38;5;124m'\u001b[39m\u001b[38;5;124mλιμουζίνα/sedan\u001b[39m\u001b[38;5;124m'\u001b[39m, \u001b[38;5;124m'\u001b[39m\u001b[38;5;124mvan/minibus\u001b[39m\u001b[38;5;124m'\u001b[39m])]\n",
      "\u001b[1;31mNameError\u001b[0m: name 'df' is not defined"
     ]
    }
   ],
   "source": [
    "#Removing unwanted elements\n",
    "df = df[df['Model'] != '']\n",
    "df = df[~df['Model'].isin(['κόμπι/kάραβαν','κόμπακτ/hatchback', 'αλλο', 'αγροτικό/pickup', 'κουπέ-σπόρ', 'λιμουζίνα/sedan', 'van/minibus'])]"
   ]
  },
  {
   "cell_type": "code",
   "execution_count": null,
   "id": "4c664841",
   "metadata": {
    "scrolled": true
   },
   "outputs": [],
   "source": [
    "#Land_Rover and Range_Rover is the same company with different models\n",
    "#In the data elements: Range, Land, Rover\n",
    "df['Brand'].unique()"
   ]
  },
  {
   "cell_type": "code",
   "execution_count": null,
   "id": "d14ab03d",
   "metadata": {
    "scrolled": true
   },
   "outputs": [],
   "source": [
    "#Rename all the elements Land_Rover\n",
    "df['Brand'] = df['Brand'].replace(['Range', 'Land', 'Rover'], 'Land_Rover')"
   ]
  },
  {
   "cell_type": "code",
   "execution_count": null,
   "id": "656854c6",
   "metadata": {},
   "outputs": [],
   "source": [
    "#Last preview\n",
    "df.head()"
   ]
  },
  {
   "cell_type": "code",
   "execution_count": null,
   "id": "09b9a396",
   "metadata": {
    "scrolled": true
   },
   "outputs": [],
   "source": [
    "#Dropping car_data column\n",
    "df.drop('car_data', axis=1, inplace=True)"
   ]
  },
  {
   "cell_type": "code",
   "execution_count": null,
   "id": "4dc74b48",
   "metadata": {
    "scrolled": true
   },
   "outputs": [],
   "source": [
    "df.isna().sum()"
   ]
  },
  {
   "cell_type": "markdown",
   "id": "cd0a114a",
   "metadata": {},
   "source": [
    "<a id = '2'></a>\n",
    "<h2 style = \"font-family:Open Sans; font-size:50px; background-color: #f0f0f0; color : #9b1a1a; border-radius: 100px 100px; text-align:center\"> 2. Answering Questions</h2>\n"
   ]
  },
  {
   "cell_type": "markdown",
   "id": "bb5b2cb3",
   "metadata": {},
   "source": [
    "<a id = '2.1'></a>\n",
    "<h2 style = \"background-color: #f0f0f0; color : #9b1a1a; font-size: 35px; font-family:Open Sans; font-weight: normal; border-radius: 100px 100px; text-align: center\"> 2.1 Has the Greek Economic Crisis and Covid-19 impacted the market?</h2>"
   ]
  },
  {
   "cell_type": "code",
   "execution_count": null,
   "id": "7b403d69",
   "metadata": {},
   "outputs": [],
   "source": [
    "plt.figure(figsize=(12,8))\n",
    "custom_palette = sns.cubehelix_palette(n_colors=72, start=2, rot=0, dark=0.2, light=0.8)\n",
    "sns.scatterplot(x=df['Year'],\n",
    "               y=df['prices'],\n",
    "                hue= df['Brand'],\n",
    "               palette = custom_palette,\n",
    "               s = 100,\n",
    "               legend=False)\n",
    "plt.title('Relation between Year and Price of Used Cars',\n",
    "         fontsize=14,fontweight='bold')\n",
    "plt.xlabel('Year', fontweight = 'bold')\n",
    "plt.ylabel('Price')\n",
    "plt.show()"
   ]
  },
  {
   "cell_type": "markdown",
   "id": "7b6bd192",
   "metadata": {},
   "source": [
    "### - There is a gap of expensive used cars between 2011 and 2014, it can be explained due to Greek Economic Crisis\n",
    "### - There is no gap in COVID-19 era thus it has not impacted the market.\n",
    "### - We can see from the above graph the price of used cars overall decreases over the years as expected.\n",
    "\n",
    "### - We can also notice based on this sample that there are newer models for sale in the market."
   ]
  },
  {
   "cell_type": "markdown",
   "id": "aa5b2618",
   "metadata": {},
   "source": [
    "<a id = '2.2'></a>\n",
    "<h2 style = \"background-color: #f0f0f0; color : #9b1a1a; font-size: 35px; font-family:Open Sans; font-weight: normal; border-radius: 100px 100px; text-align: center\"> 2.2 Which year has the biggest number for sale?</h2>"
   ]
  },
  {
   "cell_type": "code",
   "execution_count": null,
   "id": "407ddc2d",
   "metadata": {
    "scrolled": false
   },
   "outputs": [],
   "source": [
    "plt.figure(figsize=(10, 6))\n",
    "sns.countplot(x='Year', data=df, palette='viridis')\n",
    "plt.title('Number of Cars for sale based on Year of manufucture', fontsize=14, fontweight='bold')\n",
    "plt.xlabel('Year', fontweight='bold')\n",
    "plt.ylabel('Count', fontweight='bold')\n",
    "plt.show()"
   ]
  },
  {
   "cell_type": "markdown",
   "id": "96209ce6",
   "metadata": {},
   "source": [
    "### - Most cars for sale are on after Greek Crisis and before COVID-19 era"
   ]
  },
  {
   "cell_type": "markdown",
   "id": "8766e29a",
   "metadata": {},
   "source": [
    "<a id = '2.3'></a>\n",
    "<h2 style = \"background-color: #f0f0f0; color : #9b1a1a; font-size: 35px; font-family:Open Sans; font-weight: normal; border-radius: 100px 100px; text-align: center\"> 2.3 What Brands are the most expensive in the used car market?</h2>"
   ]
  },
  {
   "cell_type": "code",
   "execution_count": null,
   "id": "7b7b49fe",
   "metadata": {},
   "outputs": [],
   "source": [
    "plt.figure(figsize=(40,40))\n",
    "custom_palette = sns.color_palette(\"Dark2\")\n",
    "plt.barh(y= df['Brand'],\n",
    "       width=df['prices'],\n",
    "       color = custom_palette)\n",
    "plt.xticks(rotation = 45, fontsize =25)\n",
    "plt.yticks(fontsize=18)\n",
    "plt.title('Cars Listing by Brand and Price',fontsize = 40, fontweight='bold')\n",
    "plt.show()"
   ]
  },
  {
   "cell_type": "markdown",
   "id": "d6785e72",
   "metadata": {},
   "source": [
    "### In this graph we can dinstinguish as expected that the most expensive brands: \n",
    "### Ferrari, Lamborgini, Mercedes-Benz, Bmw, Aston Martin, McLaren"
   ]
  },
  {
   "cell_type": "markdown",
   "id": "feac0e1d",
   "metadata": {},
   "source": [
    "<a id = '2.4'></a>\n",
    "<h2 style = \"background-color: #f0f0f0; color : #9b1a1a; font-size: 35px; font-family:Open Sans; font-weight: normal; border-radius: 100px 100px; text-align: center\"> 2.4 Which models are the most expensive on the market?</h2>"
   ]
  },
  {
   "cell_type": "code",
   "execution_count": null,
   "id": "7db12f27",
   "metadata": {
    "scrolled": false
   },
   "outputs": [],
   "source": [
    "top_100_models = df.sort_values(by='prices', ascending=False).head(100)\n",
    "top_100_models"
   ]
  },
  {
   "cell_type": "markdown",
   "id": "794a1780",
   "metadata": {},
   "source": [
    "<a id = '2.5'></a>\n",
    "<h2 style = \"background-color: #f0f0f0; color : #9b1a1a; font-size: 35px; font-family:Open Sans; font-weight: normal; border-radius: 100px 100px; text-align: center\"> 2.5 What Brands are most in sale on the market?</h2>"
   ]
  },
  {
   "cell_type": "code",
   "execution_count": null,
   "id": "04044c28",
   "metadata": {
    "scrolled": true
   },
   "outputs": [],
   "source": [
    "brand_counts_sorted = df.groupby('Brand')['Model'].count().sort_values(ascending=False)\n",
    "brand_counts_sorted.head(50)"
   ]
  },
  {
   "cell_type": "markdown",
   "id": "c9a628cc",
   "metadata": {},
   "source": [
    "#### The number of cars based on Brand that are in sale on the market at the moment:"
   ]
  },
  {
   "cell_type": "markdown",
   "id": "c6456008",
   "metadata": {},
   "source": [
    "<a id = '2.6'></a>\n",
    "<h2 style = \"background-color: #f0f0f0; color : #9b1a1a; font-size: 35px; font-family:Open Sans; font-weight: normal; border-radius: 100px 100px; text-align: center\"> 2.6 What Models are sold in the used car market?</h2>"
   ]
  },
  {
   "cell_type": "code",
   "execution_count": null,
   "id": "e90e842a",
   "metadata": {
    "scrolled": true
   },
   "outputs": [],
   "source": [
    "\n",
    "brand_counts_sorted = df.groupby('Model')['Model'].count().sort_values(ascending=False)\n",
    "pd.set_option('display.max_rows', None)\n",
    "brand_counts_sorted.head(50)"
   ]
  },
  {
   "cell_type": "markdown",
   "id": "0c49d2e3",
   "metadata": {},
   "source": [
    "#### Lets visualise the prices of the 10 most in sale brands on the market:"
   ]
  },
  {
   "cell_type": "code",
   "execution_count": null,
   "id": "b54bbfb9",
   "metadata": {},
   "outputs": [],
   "source": [
    "tt = ['Mercedes-Benz','Peugeot','Opel','Volkswagen,''Renault','Toyota','Ford','Bmw','Nissan','Fiat']\n",
    "df_tt = df[df['Brand'].isin(tt)]"
   ]
  },
  {
   "cell_type": "code",
   "execution_count": null,
   "id": "f23f44f7",
   "metadata": {
    "scrolled": false
   },
   "outputs": [],
   "source": [
    "plt.figure(figsize=(12, 8))\n",
    "custom_palette = sns.color_palette(\"rainbow\")\n",
    "sns.scatterplot(x=df_tt['Year'],\n",
    "               y=df_tt['prices'],\n",
    "                hue= df_tt['Brand'],\n",
    "               palette = custom_palette,\n",
    "               s = 100)\n",
    "plt.title('Relation between Year and Price of 10 Most frequent in sales Used Cars',\n",
    "         fontsize=14,fontweight='bold')\n",
    "plt.xlabel('Year', fontweight = 'bold')\n",
    "plt.ylabel('Price')\n",
    "plt.show()"
   ]
  },
  {
   "cell_type": "markdown",
   "id": "5f05d34b",
   "metadata": {},
   "source": [
    "#### Mercedes-Benz and BMW used cars on the market are sold on a variety starting from a relative cheap price to high permarmance and supercars. The older the cars the cheaper they get.\n",
    "\n",
    "\n",
    "#### Now lets for every Brand with prices less than 50000 euros:"
   ]
  },
  {
   "cell_type": "code",
   "execution_count": null,
   "id": "a6ff35c6",
   "metadata": {
    "scrolled": false
   },
   "outputs": [],
   "source": [
    "filtered_df = df_tt[df_tt['prices'] < 50000]\n",
    "g = sns.FacetGrid(filtered_df, col='Brand', hue='Brand', col_wrap=4, height=4)\n",
    "g.map(sns.scatterplot, 'Year', 'prices', s=100)\n",
    "g.set_titles('{col_name}')\n",
    "\n",
    "plt.subplots_adjust(top=0.9)\n",
    "g.fig.suptitle('Relation between Year and Price of 10 Most Frequent in Sales Used Cars < 50000 Euros',\n",
    "               fontsize=14, fontweight='bold')\n",
    "g.set_xlabels('Year', fontweight='bold')\n",
    "g.set_ylabels('Price', fontweight='bold')\n",
    "plt.show()\n",
    "\n",
    "filtered_df = df_tt[df_tt['prices'] < 50000]\n",
    "\n"
   ]
  },
  {
   "cell_type": "markdown",
   "id": "f34ae178",
   "metadata": {},
   "source": [
    "#### Fiat brand is cheaper in general\n",
    "#### Although between 2011 to 2014 there is a gap for Mercedes-Benz we can see after the crisis still kept its sales volume."
   ]
  },
  {
   "cell_type": "markdown",
   "id": "c9989a86",
   "metadata": {},
   "source": [
    "6. What Models are sold in the used car market?\n",
    "7. What type of cars dominate the market?\n",
    "8. Which models do not their value according to the market?"
   ]
  },
  {
   "cell_type": "markdown",
   "id": "0f53e036",
   "metadata": {},
   "source": [
    "<a id = '2.7'></a>\n",
    "<h2 style = \"background-color: #f0f0f0; color : #9b1a1a; font-size: 35px; font-family:Open Sans; font-weight: normal; border-radius: 100px 100px; text-align: center\"> 2.7 What type of cars dominate the market?</h2>"
   ]
  },
  {
   "cell_type": "markdown",
   "id": "7b4f0beb",
   "metadata": {},
   "source": [
    "### Based on the 20 most sold car models on the market let see which of those keep there value."
   ]
  },
  {
   "cell_type": "markdown",
   "id": "e4632826",
   "metadata": {},
   "source": [
    "8. Which models do not their value according to the market?"
   ]
  },
  {
   "cell_type": "code",
   "execution_count": null,
   "id": "091aeea9",
   "metadata": {
    "scrolled": true
   },
   "outputs": [],
   "source": [
    "top_20_models = [\n",
    "    'Yaris',\n",
    "    'Corsa',\n",
    "    'Clio',\n",
    "    '208',\n",
    "    'Fiesta',\n",
    "    'Golf',\n",
    "    'Qashqai',\n",
    "    'Astra',\n",
    "    'ForTwo',\n",
    "    'i20',\n",
    "    'Polo',\n",
    "    'i10',\n",
    "    '500',\n",
    "    'Focus',\n",
    "    '2008',\n",
    "    'C3',\n",
    "    'Aygo',\n",
    "    'A3',\n",
    "    'Micra',\n",
    "    'Captur',\n",
    "]"
   ]
  },
  {
   "cell_type": "markdown",
   "id": "01717859",
   "metadata": {},
   "source": [
    "### The dominating type of cars in the market is economic cars with low cc and hp"
   ]
  },
  {
   "cell_type": "markdown",
   "id": "94a5c470",
   "metadata": {},
   "source": [
    "<a id = '2.8'></a>\n",
    "<h2 style = \"background-color: #f0f0f0; color : #9b1a1a; font-size: 35px; font-family:Open Sans; font-weight: normal; border-radius: 100px 100px; text-align: center\"> 2.8 Which models do not lose their value according to the market?</h2>"
   ]
  },
  {
   "cell_type": "markdown",
   "id": "c4071c53",
   "metadata": {},
   "source": [
    "### Based on the most sold car models on the market let see which of those keep there value.\n",
    "### We must calculate depreciation for each car model."
   ]
  },
  {
   "cell_type": "code",
   "execution_count": null,
   "id": "423ce796",
   "metadata": {
    "scrolled": false
   },
   "outputs": [],
   "source": [
    "df_filtered = df[df['Model'].isin(top_20_models)]\n",
    "# Calculate the depreciation for each car model\n",
    "df_filtered['Depreciation'] = df_filtered.groupby(['Brand', 'Model'])['prices'].pct_change()\n",
    "# Calculate the average depreciation rate for each car model\n",
    "avg_depreciation = df_filtered.groupby(['Brand', 'Model'])['Depreciation'].mean().reset_index()\n",
    "# Sort the car models based on their average depreciation rate\n",
    "sorted_models = avg_depreciation.sort_values(by='Depreciation', ascending=True)"
   ]
  },
  {
   "cell_type": "code",
   "execution_count": null,
   "id": "120fbad2",
   "metadata": {
    "scrolled": true
   },
   "outputs": [],
   "source": [
    "sorted_models = sorted_models.sort_values(by='Depreciation')\n",
    "sorted_models"
   ]
  },
  {
   "cell_type": "markdown",
   "id": "cdce1608",
   "metadata": {},
   "source": [
    "### The cars models that keep their prices over the years in the Greek market are:"
   ]
  },
  {
   "cell_type": "code",
   "execution_count": null,
   "id": "32021cce",
   "metadata": {
    "scrolled": false
   },
   "outputs": [],
   "source": [
    "plt.figure(figsize=(20, 20))\n",
    "\n",
    "num_rows = 5\n",
    "num_cols = 4\n",
    "\n",
    "for i, model in enumerate(top_20_models, 1):\n",
    "    plt.subplot(num_rows, num_cols, i)\n",
    "    \n",
    "    model_data = df[df['Model'] == model]\n",
    "    mean_prices = model_data.groupby('Year')['prices'].mean().reset_index()\n",
    "\n",
    "    sns.scatterplot(x=mean_prices['Year'],\n",
    "                    y=mean_prices['prices'],\n",
    "                    hue=mean_prices['Year'],\n",
    "                    s=100,\n",
    "                    legend=False)\n",
    "\n",
    "    plt.title(f'Year and Price {model}', fontsize=14, fontweight='bold')\n",
    "    plt.xlabel('Year', fontweight='bold')\n",
    "    plt.ylabel('Average Price', fontweight='bold')"
   ]
  },
  {
   "cell_type": "markdown",
   "id": "abc2b3b3",
   "metadata": {},
   "source": [
    "<a id = '3'></a>\n",
    "<h2 style = \"font-family:Open Sans; font-size:50px; background-color: #f0f0f0; color : #9b1a1a; border-radius: 100px 100px; text-align:center\"> 3. Results & Refernces</h2>\n"
   ]
  },
  {
   "cell_type": "markdown",
   "id": "cd8f8185",
   "metadata": {},
   "source": [
    "<h4 style = \"font-family:Open Sans; font-size:40px; background-color: #f0f0f0; color : #9b1a1a; border-radius: 100px 100px; text-align:center\"> Impact of Greek Economic Crisis and Covid-19 </h4>"
   ]
  },
  {
   "cell_type": "code",
   "execution_count": null,
   "id": "4a4a8bec",
   "metadata": {
    "scrolled": false
   },
   "outputs": [],
   "source": [
    "fig1 = px.histogram(df, x='Year', title='Impact of Greek Economic Crisis and Covid-19 on Used Car Market')\n",
    "fig1.update_layout(xaxis_title='Year', yaxis_title='Number of Cars')\n",
    "py.iplot(fig1)"
   ]
  },
  {
   "cell_type": "markdown",
   "id": "15e98d33",
   "metadata": {},
   "source": [
    "<div style=\"background-color: #f0f0f0; padding: 15px; border-radius: 5px;\">\n",
    "\n",
    "- <span style=\"color: #B6042A;\">There is a gap of expensive used cars between 2011 and 2014, which can be attributed to the Greek Economic Crisis.</span>\n",
    "- <span style=\"color: #79021C;\">There is no gap in the COVID-19 era, indicating that it has not significantly impacted the market.</span>\n",
    "- <span style=\"color: #3D010E;\">From the above graph, it's evident that the price of used cars overall decreases over the years as expected..</span>\n",
    "- <span style=\"color: #000000;\">Additionally, based on this sample, newer models are available for sale in the market (from 2015 and after).</span>"
   ]
  },
  {
   "cell_type": "markdown",
   "id": "3db01df5",
   "metadata": {},
   "source": [
    "<h4 style = \"font-family:Open Sans; font-size:40px; background-color: #f0f0f0; color : #9b1a1a; border-radius: 100px 100px; text-align:center\">  Q2: Year with the biggest number for sale <h4>\n"
   ]
  },
  {
   "cell_type": "code",
   "execution_count": null,
   "id": "4c63c28d",
   "metadata": {},
   "outputs": [],
   "source": [
    "fig2 = px.bar(df['Year'].value_counts().reset_index(), x='index', y='Year', \n",
    "              title='Year with the Biggest Number of Cars for Sale',)\n",
    "fig2.update_layout(xaxis_title='Year', yaxis_title='Number of Cars')\n",
    "py.iplot(fig2)"
   ]
  },
  {
   "cell_type": "markdown",
   "id": "21aac352",
   "metadata": {},
   "source": [
    "<h4 style = \"font-family:Open Sans; font-size:40px; background-color: #f0f0f0; color : #9b1a1a; border-radius: 100px 100px; text-align:center\">  Q3: Most expensive brands <h4>\n"
   ]
  },
  {
   "cell_type": "code",
   "execution_count": null,
   "id": "bb4a8443",
   "metadata": {},
   "outputs": [],
   "source": [
    "fig3 = px.bar(df.groupby('Brand')['prices'].max().reset_index(), x='Brand', y='prices',\n",
    "              title='Most Expensive Brands on the Used Car Market')\n",
    "fig3.update_layout(xaxis_title='Brand', yaxis_title='prices')\n",
    "py.iplot(fig3)"
   ]
  },
  {
   "cell_type": "markdown",
   "id": "f231c3ca",
   "metadata": {},
   "source": [
    "<h4 style = \"font-family:Open Sans; font-size:40px; background-color: #f0f0f0; color : #9b1a1a; border-radius: 100px 100px; text-align:center\">  Q4: Most expensive models <h4>"
   ]
  },
  {
   "cell_type": "code",
   "execution_count": null,
   "id": "a2ccebc2",
   "metadata": {},
   "outputs": [],
   "source": [
    "fig4 = px.bar(df.groupby('Model')['prices'].max().reset_index(), x='Model', y='prices',\n",
    "              title='Most Expensive Models on the Used Car Market')\n",
    "fig4.update_layout(xaxis_title='Model', yaxis_title='prices')\n",
    "py.iplot(fig4)"
   ]
  },
  {
   "cell_type": "markdown",
   "id": "90ee559c",
   "metadata": {},
   "source": [
    "<h4 style = \"font-family:Open Sans; font-size:40px; background-color: #f0f0f0; color : #9b1a1a; border-radius: 100px 100px; text-align:center\">  Q5: Most in-sale brands <h4>\n"
   ]
  },
  {
   "cell_type": "code",
   "execution_count": null,
   "id": "f3ba4f30",
   "metadata": {},
   "outputs": [],
   "source": [
    "fig5 = px.bar(df['Brand'].value_counts().reset_index(), x='index', y='Brand',\n",
    "              title='Most In-Sale Brands on the Used Car Market')\n",
    "fig5.update_layout(xaxis_title='Brand', yaxis_title='Number of Cars')\n",
    "py.iplot(fig5)"
   ]
  },
  {
   "cell_type": "markdown",
   "id": "7cf2574d",
   "metadata": {},
   "source": [
    "<h4 style = \"font-family:Open Sans; font-size:40px; background-color: #f0f0f0; color : #9b1a1a; border-radius: 100px 100px; text-align:center\">  Q6: Models sold in the used car market <h4>"
   ]
  },
  {
   "cell_type": "code",
   "execution_count": null,
   "id": "cc20cd92",
   "metadata": {},
   "outputs": [],
   "source": [
    "fig6 = px.bar(df['Model'].value_counts().reset_index(), x='index', y='Model',\n",
    "              title='Models Sold in the Used Car Market')\n",
    "fig6.update_layout(xaxis_title='Model', yaxis_title='Number of Cars')\n",
    "py.iplot(fig6)"
   ]
  },
  {
   "cell_type": "markdown",
   "id": "f5520fff",
   "metadata": {},
   "source": [
    "<h4 style = \"font-family:Open Sans; font-size:40px; background-color: #f0f0f0; color : #9b1a1a; border-radius: 100px 100px; text-align:center\"> Q7: Dominant types of cars <h4>"
   ]
  },
  {
   "cell_type": "code",
   "execution_count": null,
   "id": "8f2a4818",
   "metadata": {},
   "outputs": [],
   "source": [
    "for i in range(len(top_20_models)):\n",
    "    print(f\"{i+1}: {top_20_models[i]}\")\n",
    "\n",
    "print('\\nMost of the 20 top models are economic cars with low cc and hp and also mostly small on size in order to park easier.')"
   ]
  },
  {
   "cell_type": "markdown",
   "id": "5eda8e5e",
   "metadata": {},
   "source": [
    "<h4 style = \"font-family:Open Sans; font-size:40px; background-color: #f0f0f0; color : #9b1a1a; border-radius: 100px 100px; text-align:center\">  Q8: Models that do not lose their value <h4>"
   ]
  },
  {
   "cell_type": "code",
   "execution_count": null,
   "id": "c4390f24",
   "metadata": {
    "scrolled": false
   },
   "outputs": [],
   "source": [
    "for i in range(sorted_models.shape[0]):\n",
    "    print(f\"Model: {sorted_models['Model'].iloc[i]} model of Brand:{sorted_models['Brand'].iloc[i]} loses every year {((sorted_models['Depreciation'].iloc[i])*100).round(2)}% of its price.\")"
   ]
  },
  {
   "cell_type": "markdown",
   "id": "f4feae9d",
   "metadata": {
    "scrolled": true
   },
   "source": [
    "# References"
   ]
  },
  {
   "cell_type": "markdown",
   "id": "38fe7494",
   "metadata": {},
   "source": [
    "### The data was scraped Nov 23 from: https://www.car.gr/"
   ]
  }
 ],
 "metadata": {
  "kernelspec": {
   "display_name": "Python 3 (ipykernel)",
   "language": "python",
   "name": "python3"
  },
  "language_info": {
   "codemirror_mode": {
    "name": "ipython",
    "version": 3
   },
   "file_extension": ".py",
   "mimetype": "text/x-python",
   "name": "python",
   "nbconvert_exporter": "python",
   "pygments_lexer": "ipython3",
   "version": "3.11.4"
  }
 },
 "nbformat": 4,
 "nbformat_minor": 5
}
